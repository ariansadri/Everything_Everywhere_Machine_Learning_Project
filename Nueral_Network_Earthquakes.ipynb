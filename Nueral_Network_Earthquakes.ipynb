{
 "cells": [
  {
   "cell_type": "code",
   "execution_count": 20,
   "metadata": {},
   "outputs": [],
   "source": [
    "%matplotlib inline\n",
    "import matplotlib.pyplot as plt\n",
    "import tensorflow as tf\n",
    "import numpy as np\n",
    "import pandas as pd\n",
    "import os\n",
    "from sklearn.preprocessing import MinMaxScaler"
   ]
  },
  {
   "cell_type": "code",
   "execution_count": 21,
   "metadata": {},
   "outputs": [],
   "source": [
    "# from tf.keras.models import Sequential  # This does not work!\n",
    "from tensorflow.python.keras.models import Sequential\n",
    "from tensorflow.python.keras.layers import Input, Dense, GRU, Embedding\n",
    "from tensorflow.python.keras.optimizers import RMSprop\n",
    "from tensorflow.python.keras.callbacks import EarlyStopping, ModelCheckpoint, TensorBoard, ReduceLROnPlateau"
   ]
  },
  {
   "cell_type": "code",
   "execution_count": 31,
   "metadata": {},
   "outputs": [
    {
     "data": {
      "text/html": [
       "<div>\n",
       "<style scoped>\n",
       "    .dataframe tbody tr th:only-of-type {\n",
       "        vertical-align: middle;\n",
       "    }\n",
       "\n",
       "    .dataframe tbody tr th {\n",
       "        vertical-align: top;\n",
       "    }\n",
       "\n",
       "    .dataframe thead th {\n",
       "        text-align: right;\n",
       "    }\n",
       "</style>\n",
       "<table border=\"1\" class=\"dataframe\">\n",
       "  <thead>\n",
       "    <tr style=\"text-align: right;\">\n",
       "      <th></th>\n",
       "      <th>latitude</th>\n",
       "      <th>longitude</th>\n",
       "      <th>depth</th>\n",
       "      <th>mag</th>\n",
       "      <th>magType</th>\n",
       "      <th>nst</th>\n",
       "      <th>gap</th>\n",
       "      <th>dmin</th>\n",
       "      <th>rms</th>\n",
       "      <th>net</th>\n",
       "      <th>...</th>\n",
       "      <th>updated</th>\n",
       "      <th>place</th>\n",
       "      <th>type</th>\n",
       "      <th>horizontalError</th>\n",
       "      <th>depthError</th>\n",
       "      <th>magError</th>\n",
       "      <th>magNst</th>\n",
       "      <th>status</th>\n",
       "      <th>locationSource</th>\n",
       "      <th>magSource</th>\n",
       "    </tr>\n",
       "    <tr>\n",
       "      <th>time</th>\n",
       "      <th></th>\n",
       "      <th></th>\n",
       "      <th></th>\n",
       "      <th></th>\n",
       "      <th></th>\n",
       "      <th></th>\n",
       "      <th></th>\n",
       "      <th></th>\n",
       "      <th></th>\n",
       "      <th></th>\n",
       "      <th></th>\n",
       "      <th></th>\n",
       "      <th></th>\n",
       "      <th></th>\n",
       "      <th></th>\n",
       "      <th></th>\n",
       "      <th></th>\n",
       "      <th></th>\n",
       "      <th></th>\n",
       "      <th></th>\n",
       "      <th></th>\n",
       "    </tr>\n",
       "  </thead>\n",
       "  <tbody>\n",
       "    <tr>\n",
       "      <th>2019-12-13 20:09:20.990000+00:00</th>\n",
       "      <td>35.678</td>\n",
       "      <td>-117.533833</td>\n",
       "      <td>8.34</td>\n",
       "      <td>1.21</td>\n",
       "      <td>ml</td>\n",
       "      <td>28.0</td>\n",
       "      <td>59.0</td>\n",
       "      <td>0.0628</td>\n",
       "      <td>0.18</td>\n",
       "      <td>ci</td>\n",
       "      <td>...</td>\n",
       "      <td>2019-12-13T22:56:32.181Z</td>\n",
       "      <td>14km ENE of Ridgecrest, CA</td>\n",
       "      <td>earthquake</td>\n",
       "      <td>0.24</td>\n",
       "      <td>0.73</td>\n",
       "      <td>0.159</td>\n",
       "      <td>17.0</td>\n",
       "      <td>reviewed</td>\n",
       "      <td>ci</td>\n",
       "      <td>ci</td>\n",
       "    </tr>\n",
       "  </tbody>\n",
       "</table>\n",
       "<p>1 rows × 21 columns</p>\n",
       "</div>"
      ],
      "text/plain": [
       "                                  latitude   longitude  depth   mag magType  \\\n",
       "time                                                                          \n",
       "2019-12-13 20:09:20.990000+00:00    35.678 -117.533833   8.34  1.21      ml   \n",
       "\n",
       "                                   nst   gap    dmin   rms net  ...  \\\n",
       "time                                                            ...   \n",
       "2019-12-13 20:09:20.990000+00:00  28.0  59.0  0.0628  0.18  ci  ...   \n",
       "\n",
       "                                                   updated  \\\n",
       "time                                                         \n",
       "2019-12-13 20:09:20.990000+00:00  2019-12-13T22:56:32.181Z   \n",
       "\n",
       "                                                       place        type  \\\n",
       "time                                                                       \n",
       "2019-12-13 20:09:20.990000+00:00  14km ENE of Ridgecrest, CA  earthquake   \n",
       "\n",
       "                                 horizontalError  depthError  magError  \\\n",
       "time                                                                     \n",
       "2019-12-13 20:09:20.990000+00:00            0.24        0.73     0.159   \n",
       "\n",
       "                                  magNst    status locationSource magSource  \n",
       "time                                                                         \n",
       "2019-12-13 20:09:20.990000+00:00    17.0  reviewed             ci        ci  \n",
       "\n",
       "[1 rows x 21 columns]"
      ]
     },
     "execution_count": 31,
     "metadata": {},
     "output_type": "execute_result"
    }
   ],
   "source": [
    "df = pd.read_csv(\"Past_Month_All.csv\", index_col=\"time\")\n",
    "df.index = pd.to_datetime(df.index)\n",
    "df.head(1)"
   ]
  },
  {
   "cell_type": "code",
   "execution_count": 33,
   "metadata": {},
   "outputs": [],
   "source": [
    "df = df[['mag', 'latitude', 'longitude']]"
   ]
  },
  {
   "cell_type": "code",
   "execution_count": 35,
   "metadata": {},
   "outputs": [
    {
     "data": {
      "text/html": [
       "<div>\n",
       "<style scoped>\n",
       "    .dataframe tbody tr th:only-of-type {\n",
       "        vertical-align: middle;\n",
       "    }\n",
       "\n",
       "    .dataframe tbody tr th {\n",
       "        vertical-align: top;\n",
       "    }\n",
       "\n",
       "    .dataframe thead th {\n",
       "        text-align: right;\n",
       "    }\n",
       "</style>\n",
       "<table border=\"1\" class=\"dataframe\">\n",
       "  <thead>\n",
       "    <tr style=\"text-align: right;\">\n",
       "      <th></th>\n",
       "      <th>mag</th>\n",
       "      <th>latitude</th>\n",
       "      <th>longitude</th>\n",
       "    </tr>\n",
       "    <tr>\n",
       "      <th>time</th>\n",
       "      <th></th>\n",
       "      <th></th>\n",
       "      <th></th>\n",
       "    </tr>\n",
       "  </thead>\n",
       "  <tbody>\n",
       "    <tr>\n",
       "      <th>2019-12-13 20:09:20.990000+00:00</th>\n",
       "      <td>1.21</td>\n",
       "      <td>35.678000</td>\n",
       "      <td>-117.533833</td>\n",
       "    </tr>\n",
       "    <tr>\n",
       "      <th>2019-12-13 20:15:37.090000+00:00</th>\n",
       "      <td>0.74</td>\n",
       "      <td>35.857167</td>\n",
       "      <td>-117.663167</td>\n",
       "    </tr>\n",
       "    <tr>\n",
       "      <th>2019-12-13 20:16:04.800000+00:00</th>\n",
       "      <td>0.15</td>\n",
       "      <td>35.711333</td>\n",
       "      <td>-117.571833</td>\n",
       "    </tr>\n",
       "    <tr>\n",
       "      <th>2019-12-13 20:25:12.220000+00:00</th>\n",
       "      <td>0.78</td>\n",
       "      <td>35.547667</td>\n",
       "      <td>-117.507167</td>\n",
       "    </tr>\n",
       "    <tr>\n",
       "      <th>2019-12-13 20:25:19.330000+00:00</th>\n",
       "      <td>0.66</td>\n",
       "      <td>35.882667</td>\n",
       "      <td>-117.699500</td>\n",
       "    </tr>\n",
       "  </tbody>\n",
       "</table>\n",
       "</div>"
      ],
      "text/plain": [
       "                                   mag   latitude   longitude\n",
       "time                                                         \n",
       "2019-12-13 20:09:20.990000+00:00  1.21  35.678000 -117.533833\n",
       "2019-12-13 20:15:37.090000+00:00  0.74  35.857167 -117.663167\n",
       "2019-12-13 20:16:04.800000+00:00  0.15  35.711333 -117.571833\n",
       "2019-12-13 20:25:12.220000+00:00  0.78  35.547667 -117.507167\n",
       "2019-12-13 20:25:19.330000+00:00  0.66  35.882667 -117.699500"
      ]
     },
     "execution_count": 35,
     "metadata": {},
     "output_type": "execute_result"
    }
   ],
   "source": [
    "df.head(5)"
   ]
  },
  {
   "cell_type": "code",
   "execution_count": 36,
   "metadata": {},
   "outputs": [],
   "source": [
    "Train = df.head(11000)\n",
    "Test = df.tail(1395)\n",
    "\n",
    "Train_Scalar = MinMaxScaler().fit_transform(Train)\n",
    "Test_Scaler = MinMaxScaler().fit_transform(Test)"
   ]
  },
  {
   "cell_type": "code",
   "execution_count": 41,
   "metadata": {},
   "outputs": [],
   "source": [
    "def batch_size(training_data, batch_size, steps):\n",
    "    random_starting_point = np.random.randint(0, len(training_dat)- steps)\n",
    "    Y_batch = np.array(training_data[random_starting_point:random_starting_point+steps+1]).reshape(1,steps+1)\n",
    "    \n",
    "    x_batch = Y_batch[:, :-1].reshape(-1, steps, 1)\n",
    "    Y_batch = Y_batch[:, 1:].reshape(-1, steps, 1)\n",
    "    return x_batch, Y_batch"
   ]
  },
  {
   "cell_type": "code",
   "execution_count": 42,
   "metadata": {},
   "outputs": [],
   "source": [
    "# create rnn model "
   ]
  },
  {
   "cell_type": "code",
   "execution_count": 46,
   "metadata": {},
   "outputs": [
    {
     "ename": "AttributeError",
     "evalue": "module 'tensorflow' has no attribute 'placeholder'",
     "output_type": "error",
     "traceback": [
      "\u001b[1;31m---------------------------------------------------------------------------\u001b[0m",
      "\u001b[1;31mAttributeError\u001b[0m                            Traceback (most recent call last)",
      "\u001b[1;32m<ipython-input-46-f561522d8f4b>\u001b[0m in \u001b[0;36m<module>\u001b[1;34m\u001b[0m\n\u001b[0;32m      7\u001b[0m \u001b[0mbatch_size\u001b[0m \u001b[1;33m=\u001b[0m \u001b[1;36m1\u001b[0m\u001b[1;33m\u001b[0m\u001b[1;33m\u001b[0m\u001b[0m\n\u001b[0;32m      8\u001b[0m \u001b[1;33m\u001b[0m\u001b[0m\n\u001b[1;32m----> 9\u001b[1;33m \u001b[0mx\u001b[0m \u001b[1;33m=\u001b[0m \u001b[0mtf\u001b[0m\u001b[1;33m.\u001b[0m\u001b[0mplaceholder\u001b[0m\u001b[1;33m(\u001b[0m\u001b[0mtf\u001b[0m\u001b[1;33m.\u001b[0m\u001b[0mfloat32\u001b[0m\u001b[1;33m,\u001b[0m \u001b[1;33m[\u001b[0m\u001b[1;32mNone\u001b[0m\u001b[1;33m,\u001b[0m \u001b[0mtime_steps\u001b[0m\u001b[1;33m,\u001b[0m \u001b[0minputs\u001b[0m\u001b[1;33m]\u001b[0m\u001b[1;33m)\u001b[0m\u001b[1;33m\u001b[0m\u001b[1;33m\u001b[0m\u001b[0m\n\u001b[0m\u001b[0;32m     10\u001b[0m \u001b[0my\u001b[0m \u001b[1;33m=\u001b[0m \u001b[0mtf\u001b[0m\u001b[1;33m.\u001b[0m\u001b[0mplaceholder\u001b[0m\u001b[1;33m(\u001b[0m\u001b[0mtf\u001b[0m\u001b[1;33m.\u001b[0m\u001b[0mfloat32\u001b[0m\u001b[1;33m,\u001b[0m \u001b[1;33m[\u001b[0m\u001b[1;32mNone\u001b[0m\u001b[1;33m,\u001b[0m \u001b[0mtime_steps\u001b[0m\u001b[1;33m,\u001b[0m \u001b[0moutputs\u001b[0m\u001b[1;33m]\u001b[0m\u001b[1;33m)\u001b[0m\u001b[1;33m\u001b[0m\u001b[1;33m\u001b[0m\u001b[0m\n",
      "\u001b[1;31mAttributeError\u001b[0m: module 'tensorflow' has no attribute 'placeholder'"
     ]
    }
   ],
   "source": [
    "inputs = 1\n",
    "time_steps = 12\n",
    "neurons = 100\n",
    "outputs = 3\n",
    "rate = .01\n",
    "interations = 400\n",
    "batch_size = 1\n",
    "\n",
    "x = tf.placeholder(tf.float32, [None, time_steps, inputs])\n",
    "y = tf.placeholder(tf.float32, [None, time_steps, outputs])"
   ]
  },
  {
   "cell_type": "code",
   "execution_count": null,
   "metadata": {},
   "outputs": [],
   "source": []
  }
 ],
 "metadata": {
  "kernelspec": {
   "display_name": "Python 3",
   "language": "python",
   "name": "python3"
  },
  "language_info": {
   "codemirror_mode": {
    "name": "ipython",
    "version": 3
   },
   "file_extension": ".py",
   "mimetype": "text/x-python",
   "name": "python",
   "nbconvert_exporter": "python",
   "pygments_lexer": "ipython3",
   "version": "3.7.1"
  }
 },
 "nbformat": 4,
 "nbformat_minor": 2
}
